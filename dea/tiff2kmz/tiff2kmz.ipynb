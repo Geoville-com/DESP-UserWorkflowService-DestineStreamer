{
 "cells": [
  {
   "cell_type": "markdown",
   "id": "48e4ac10-3e80-4aa7-bc31-b413b48d46b6",
   "metadata": {},
   "source": [
    "# DEA Notebook \n",
    "\n",
    "![alt text](../dea-gallery-crop.png \"DEA\")\n",
    "\n",
    "### [DEA](https://dea.destine.eu/web) is a Content creation service and no-code platform for DestinE storytelling and data visualization"
   ]
  },
  {
   "cell_type": "markdown",
   "id": "cb353142-5146-4dde-89c2-b817e462d771",
   "metadata": {},
   "source": [
    "## Generate KMZ with TimeSpan from GeoTiff\n",
    "\n",
    "This notebook helps generate Keyhole Markup Language Zipped (KMZ) file supported by the DEA service from sample GeoTIFF files.\n",
    "\n",
    "It also includes steps to add time information to the KMZ file and create a time series from raster files.\n",
    "\n",
    ">**_NOTE:_** You can replace the sample GeoTIFF files with your own GeoTIFF files."
   ]
  },
  {
   "cell_type": "markdown",
   "id": "1d932e53-639a-4b06-90de-2a967aae2914",
   "metadata": {},
   "source": [
    "# Install pre-requirements"
   ]
  },
  {
   "cell_type": "code",
   "execution_count": 2,
   "id": "2ca79555-c950-4e1c-8be8-1f2fb89b68c3",
   "metadata": {},
   "outputs": [
    {
     "name": "stdout",
     "output_type": "stream",
     "text": [
      "Requirement already satisfied: GDAL in /opt/conda/lib/python3.11/site-packages (3.10.2)\n",
      "Requirement already satisfied: pillow in /opt/conda/lib/python3.11/site-packages (10.3.0)\n",
      "Requirement already satisfied: rasterio in /opt/conda/lib/python3.11/site-packages (1.3.10)\n",
      "Requirement already satisfied: affine in /opt/conda/lib/python3.11/site-packages (from rasterio) (2.4.0)\n",
      "Requirement already satisfied: attrs in /opt/conda/lib/python3.11/site-packages (from rasterio) (23.2.0)\n",
      "Requirement already satisfied: certifi in /opt/conda/lib/python3.11/site-packages (from rasterio) (2024.2.2)\n",
      "Requirement already satisfied: click>=4.0 in /opt/conda/lib/python3.11/site-packages (from rasterio) (8.1.7)\n",
      "Requirement already satisfied: cligj>=0.5 in /opt/conda/lib/python3.11/site-packages (from rasterio) (0.7.2)\n",
      "Requirement already satisfied: numpy in /opt/conda/lib/python3.11/site-packages (from rasterio) (1.26.4)\n",
      "Requirement already satisfied: snuggs>=1.4.1 in /opt/conda/lib/python3.11/site-packages (from rasterio) (1.4.7)\n",
      "Requirement already satisfied: click-plugins in /opt/conda/lib/python3.11/site-packages (from rasterio) (1.1.1)\n",
      "Requirement already satisfied: setuptools in /home/jovyan/.local/lib/python3.11/site-packages (from rasterio) (75.1.0)\n",
      "Requirement already satisfied: pyparsing>=2.1.6 in /opt/conda/lib/python3.11/site-packages (from snuggs>=1.4.1->rasterio) (3.1.2)\n"
     ]
    }
   ],
   "source": [
    "!pip install GDAL\n",
    "!pip install pillow\n",
    "!pip install rasterio"
   ]
  },
  {
   "cell_type": "markdown",
   "id": "4c24b935-517a-45b6-bdf5-49a3717295d7",
   "metadata": {},
   "source": [
    "## Define Your Inputs\n",
    "\n",
    "In this example, we will use the following 2 files generated from Sentinel-3 OLCI products and related to the wildfire that occurred in Los Angeles in January 2025:\n",
    "\n",
    "* LAWildfire_2025-01-09_S3_OLCI_Enhanced_Natural_Color.tiff\n",
    "* LAWildfire_2025-01-10_S3_OLCI_Enhanced_Natural_Color.tiff\n",
    "\n",
    "The sensing dates of the files are:\n",
    "\n",
    "* 2025-01-09\n",
    "* 2025-01-10\n",
    "\n",
    "\n",
    "The GeoTIFF files have been downloaded from the [Copernicus Browser](https://browser.dataspace.copernicus.eu/)"
   ]
  },
  {
   "cell_type": "code",
   "execution_count": 9,
   "id": "d25659d6-7ba6-4815-b650-81843564e5c3",
   "metadata": {},
   "outputs": [],
   "source": [
    "# Input GeoTIFF files\n",
    "tiff_file_inputs = [\"LAWildfire_2025-01-09_S3_OLCI_Enhanced_Natural_Color.tiff\", \n",
    "                    \"LAWildfire_2025-01-10_S3_OLCI_Enhanced_Natural_Color.tiff\"]      \n",
    "\n",
    "# Time intervals to use\n",
    "times = [(\"2025-01-09T00:00:00Z\", \"2025-01-09T23:59:59Z\"), (\"2025-01-10T00:00:00Z\", \"2025-01-10T23:59:59Z\")]\n",
    "\n",
    "# output_kml_path\n",
    "output_kml_path = \"LAWildfire_OLCI_Enhanced_Natural_Color.kml\""
   ]
  },
  {
   "cell_type": "markdown",
   "id": "7c1ad61f-18a0-4e55-9838-199cf01ff476",
   "metadata": {},
   "source": [
    "## Convert Raster to PNG\n",
    "\n",
    "The following code will generate PNG files from the input TIFF files"
   ]
  },
  {
   "cell_type": "code",
   "execution_count": 10,
   "id": "e1a95afa-270b-4899-a2c9-be1de841eb02",
   "metadata": {},
   "outputs": [
    {
     "name": "stdout",
     "output_type": "stream",
     "text": [
      "Generating PNG from file LAWildfire_2025-01-09_S3_OLCI_Enhanced_Natural_Color.tiff\n",
      "PNG file LAWildfire_2025-01-09_S3_OLCI_Enhanced_Natural_Color.png generated successfully\n",
      "Generating PNG from file LAWildfire_2025-01-10_S3_OLCI_Enhanced_Natural_Color.tiff\n",
      "PNG file LAWildfire_2025-01-10_S3_OLCI_Enhanced_Natural_Color.png generated successfully\n"
     ]
    }
   ],
   "source": [
    "import os\n",
    "from PIL import Image\n",
    "\n",
    "png_files = []\n",
    "\n",
    "for tiff_file in tiff_file_inputs:\n",
    "    print(f\"Generating PNG from file {tiff_file}\")\n",
    "    png_path = os.path.splitext(tiff_file)[0] + '.png'\n",
    "    \n",
    "    with Image.open(tiff_file) as im:\n",
    "        im = im.convert(\"RGBA\")  # Ensure image has alpha channel\n",
    "        datas = im.getdata()\n",
    "        new_data = []\n",
    "        \n",
    "        for item in datas:\n",
    "            # item is (R, G, B, A)\n",
    "            if item[0] == 0 and item[1] == 0 and item[2] == 0:\n",
    "                new_data.append((0, 0, 0, 0))  # Make black pixels fully transparent\n",
    "            else:\n",
    "                new_data.append(item)\n",
    "        \n",
    "        im.putdata(new_data)\n",
    "        im.save(png_path, \"PNG\")\n",
    "    print(f\"PNG file {png_path} generated successfully\")    \n",
    "    png_files.append(png_path)\n",
    "\n"
   ]
  },
  {
   "cell_type": "markdown",
   "id": "15cf310f-a3ce-4af5-b99f-8206eeeb07c5",
   "metadata": {},
   "source": [
    "## Get Bounding Box from raster file\n",
    "\n",
    "The Bounding Boxes will be used in the KML file"
   ]
  },
  {
   "cell_type": "code",
   "execution_count": 11,
   "id": "20acb5ab-11d0-44c6-b7b8-a24cc72c8378",
   "metadata": {},
   "outputs": [
    {
     "name": "stdout",
     "output_type": "stream",
     "text": [
      "Getting Bounding Box from file LAWildfire_2025-01-09_S3_OLCI_Enhanced_Natural_Color.tiff\n",
      "Bounding Box from file LAWildfire_2025-01-09_S3_OLCI_Enhanced_Natural_Color.tiff: BoundingBox(left=-120.981445, bottom=32.342756, right=-115.817871, top=35.586543)\n",
      "Getting Bounding Box from file LAWildfire_2025-01-10_S3_OLCI_Enhanced_Natural_Color.tiff\n",
      "Bounding Box from file LAWildfire_2025-01-10_S3_OLCI_Enhanced_Natural_Color.tiff: BoundingBox(left=-120.108032, bottom=32.912666, right=-116.965942, top=34.859111)\n"
     ]
    }
   ],
   "source": [
    "import rasterio\n",
    "\n",
    "bboxes = []\n",
    "\n",
    "for tiff_file in tiff_file_inputs:\n",
    "    print(f\"Getting Bounding Box from file {tiff_file}\")\n",
    "    with rasterio.open(tiff_file) as dataset:\n",
    "        bounds = dataset.bounds\n",
    "        # Bounds: left, bottom, right, top\n",
    "        print(f\"Bounding Box from file {tiff_file}: {bounds}\")\n",
    "        bboxes.append(bounds)\n",
    "\n",
    "\n"
   ]
  },
  {
   "cell_type": "markdown",
   "id": "e04e504b-58fc-4103-aeb6-f8ab7b7f1b91",
   "metadata": {},
   "source": [
    "## Generate the  KML file\n",
    "\n",
    "The following code will generate a KML with the PNG files and the related time information"
   ]
  },
  {
   "cell_type": "code",
   "execution_count": 12,
   "id": "cd641ba3-b091-4449-a68f-db494cb1414e",
   "metadata": {},
   "outputs": [
    {
     "name": "stdout",
     "output_type": "stream",
     "text": [
      "KML file LAWildfire_OLCI_Enhanced_Natural_Color.kml generated successfully\n"
     ]
    }
   ],
   "source": [
    "from xml.etree.ElementTree import Element, SubElement, tostring\n",
    "from xml.dom.minidom import parseString\n",
    "\n",
    "kml_files = []\n",
    "\n",
    "kml_start = \"\"\"<?xml version=\"1.0\" encoding=\"UTF-8\"?>\n",
    "<kml xmlns=\"http://earth.google.com/kml/2.0\">\n",
    "<Document>\"\"\"\n",
    "\n",
    "kml_end = \"\"\"</Document>\n",
    "</kml>\"\"\"\n",
    "\n",
    "filled_kml = \"\"\n",
    "\n",
    "for png_filename, (west, south, east, north), (begin, end) in zip(png_files, bboxes, times):    \n",
    "    kml_template = \"\"\"\n",
    " <Folder>\n",
    "    <name>Raster visibility</name>\n",
    "    <TimeSpan><begin>{begin}</begin><end>{end}</end></TimeSpan>\n",
    "    <Folder>\n",
    "      <name>Raster</name>\n",
    "      <GroundOverlay>\n",
    "          <name>Raster data</name>\n",
    "          <LatLonBox>\n",
    "            <north>{north}</north>\n",
    "            <south>{south}</south>\n",
    "            <west>{west}</west>\n",
    "            <east>{east}</east>\n",
    "          </LatLonBox>\n",
    "          <Icon>\n",
    "            <href>{href}</href>\n",
    "          </Icon>\n",
    "      </GroundOverlay>\n",
    "    </Folder>\n",
    "  </Folder>\"\"\"\n",
    "    filled_kml += kml_template.format(\n",
    "        begin=begin,\n",
    "        end=end,\n",
    "        north=north,\n",
    "        south=south,\n",
    "        west=west,\n",
    "        east=east,\n",
    "        href=png_filename\n",
    "    )\n",
    "\n",
    "filled_kml = f\"{kml_start}{filled_kml}{kml_end}\"\n",
    "\n",
    "with open(output_kml_path, 'w') as f:\n",
    "    f.write(filled_kml)\n",
    "print(f\"KML file {output_kml_path} generated successfully\")\n",
    "    "
   ]
  },
  {
   "cell_type": "markdown",
   "id": "f713257d-45b4-4b61-a824-de4922f4b8da",
   "metadata": {},
   "source": [
    "## Generate the KMZ file\n",
    "\n",
    "The PNG files and the KML files will be zipped in the KMZ output file"
   ]
  },
  {
   "cell_type": "code",
   "execution_count": 14,
   "id": "e28f6559-fb7a-413e-a8c0-482225bd21d7",
   "metadata": {},
   "outputs": [
    {
     "name": "stdout",
     "output_type": "stream",
     "text": [
      "KMZ created at: LAWildfire_OLCI_Enhanced_Natural_Color.kmz\n"
     ]
    }
   ],
   "source": [
    "import zipfile\n",
    "\n",
    "base_name = os.path.splitext(os.path.basename(output_kml_path))[0]\n",
    "kmz_path = os.path.join(os.path.dirname(output_kml_path), base_name + '.kmz')\n",
    "\n",
    "with zipfile.ZipFile(kmz_path, 'w', zipfile.ZIP_DEFLATED) as kmz:\n",
    "    kmz.write(output_kml_path, os.path.basename(output_kml_path))\n",
    "    for png_path in png_files:    \n",
    "        kmz.write(png_path, os.path.basename(png_path))\n",
    "\n",
    "print(f\"KMZ created at: {kmz_path}\")"
   ]
  },
  {
   "cell_type": "markdown",
   "id": "4959cc11-8a75-4fe1-ab2d-730c5fdee377",
   "metadata": {},
   "source": [
    "# Upload the KMZ file on DEA and Set Autoplay\n",
    "\n",
    "### You can now upload the generated KMZ file on the [DEA Story Editor](https://dea.destine.eu/stories/editor).\n",
    "\n",
    "![alt text](dea_upload_assets.png \"Upload Assets on DEA\")\n",
    "\n",
    "### The asset can be included in your stories for creating animations.\n",
    "\n",
    "<div>\n",
    "    <center>\n",
    "        <img src=\"add_asset_to_slide.png\" width=\"400\" alt=\"Add asset to Slide\"/>\n",
    "    </center>\n",
    "</div>\n",
    "\n",
    "### You can set the slide date range according to the time interval of your newly created time series. By default, the slide time range is set to the overall time interval defined in the KMZ file.\n",
    "\n",
    "![alt text](set_slide_date_range.png \"Set the slide date range\")\n",
    "\n",
    "### Enable Autoplay and set a suitable Speed to automatically see your time series' animation in the DEA Story Viewer.\n",
    "\n",
    "<div>\n",
    "    <center>\n",
    "        <img src=\"dea_settings.png\" width=\"400\" alt=\"Enable Autoplay and set Speed\"/>\n",
    "    </center>\n",
    "</div>\n",
    "\n",
    "<center style=\"font-size: 40pt;\"><b>Hope you love it!</b></center>\n",
    "\n",
    "<div>\n",
    "    <center>\n",
    "        <img src=\"tiff2kmz.gif\" width=\"600\"/>\n",
    "    </center>\n",
    "</div>\n",
    "\n",
    "<center style=\"font-size: 30pt;\">\n",
    "    <a href=\"mailto:dea-support@alia-space.com\">dea-support@alia-space.com</a>\n",
    "</center>\n",
    "<br>"
   ]
  }
 ],
 "metadata": {
  "kernelspec": {
   "display_name": "Python 3 (ipykernel)",
   "language": "python",
   "name": "python3"
  },
  "language_info": {
   "codemirror_mode": {
    "name": "ipython",
    "version": 3
   },
   "file_extension": ".py",
   "mimetype": "text/x-python",
   "name": "python",
   "nbconvert_exporter": "python",
   "pygments_lexer": "ipython3",
   "version": "3.11.9"
  }
 },
 "nbformat": 4,
 "nbformat_minor": 5
}
