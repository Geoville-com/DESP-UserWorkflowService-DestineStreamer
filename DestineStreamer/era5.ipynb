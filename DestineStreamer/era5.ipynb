{
 "cells": [
  {
   "cell_type": "markdown",
   "metadata": {},
   "source": [
    "## DestinE Data Streaming\n",
    "\n",
    "This service offers compressed climate and era5 data and makes it available via a high quality and memory efficient streaming solution. The [SSIM](https://en.wikipedia.org/wiki/Structural_similarity_index_measure) and the mean relative error serve as quality measures.\n",
    "\n",
    "<div style='white-space: nowrap', align='center'>\n",
    "\n",
    "<div style='display:inline-block', align='center'>Era5 2 meter dewpoint temperature (01-01-1940 09:00)<br>\n",
    "<img src=\"images/2t9_og_.jpeg\" width=\"450px\"><br><img src=\"images/2t9_cp_.jpeg\" width=\"450px\"><br>Mean SSIM: 0.996<br>Compression rate 1:13<br>Mean relative error 0.1 %</div>\n",
    "\n",
    "<div style='display:inline-block', align='center'>Era 5 10 metre U wind component (01-01-1940 09:00)<br>\n",
    "<img src=\"images/10u9_og_.jpeg\" width=\"450px\"><br><img src=\"images/10u9_cp_.jpeg\" width=\"450px\"><br>Mean SSIM: 0.995<br>Compression rate 1:27<br>Mean relative error 0.3 %</div>\n",
    "\n",
    "</div>\n"
   ]
  },
  {
   "metadata": {},
   "cell_type": "markdown",
   "source": "## Authentification"
  },
  {
   "metadata": {
    "ExecuteTime": {
     "end_time": "2024-07-17T09:38:06.297165Z",
     "start_time": "2024-07-17T09:37:50.586666Z"
    }
   },
   "cell_type": "code",
   "source": [
    "%%capture cap\n",
    "%run ./auth.py"
   ],
   "outputs": [],
   "execution_count": 1
  },
  {
   "metadata": {
    "ExecuteTime": {
     "end_time": "2024-07-17T09:38:06.306658Z",
     "start_time": "2024-07-17T09:38:06.301099Z"
    }
   },
   "cell_type": "code",
   "source": [
    "output_1 = cap.stdout.split('}\\n')\n",
    "token_loc = output_1[-1][0:-1]"
   ],
   "outputs": [],
   "execution_count": 2
  },
  {
   "cell_type": "markdown",
   "metadata": {},
   "source": [
    "# Imports and general definitions\n",
    "We start by importing necessary packages and definitions regarding the resolution and the endpoint to the streaming api.\n",
    "\n",
    "Note: The API token must be set here including the user group"
   ]
  },
  {
   "cell_type": "code",
   "metadata": {
    "jukit_cell_id": "jJMMfb6qeT",
    "ExecuteTime": {
     "end_time": "2024-07-17T09:38:06.952610Z",
     "start_time": "2024-07-17T09:38:06.312929Z"
    }
   },
   "source": [
    "from dtelib import DTEStreamer\n",
    "from datetime import datetime\n",
    "import xarray as xa\n",
    "import rioxarray # noqa\n",
    "from pyproj import CRS\n",
    "from rasterio.transform import from_origin\n",
    "\n",
    "FORMAT = '%Y-%m-%dT%H:%M'"
   ],
   "outputs": [],
   "execution_count": 3
  },
  {
   "cell_type": "markdown",
   "metadata": {},
   "source": [
    "# Parameters for stream access\n",
    "\n",
    "Here the parameters are set to access the data from the service, e.g. era5 datasets.\n",
    "\n",
    "*short_name*: an abbreviated name for the data</br>\n",
    "*start_date*: the time and date to start the stream</br>\n",
    "*end_date*: the time and date to end the stream</br>\n",
    "</br>\n",
    "Era5 data is available for dates between 01-01-1940 00:00 to 31-12-2023 23:00\n",
    "and these datasets:\n",
    "\n",
    "| short_name | name                           | compression ratio | mean relative error | SSIM  |\n",
    "|------------|--------------------------------|-------------------|---------------------|-------|\n",
    "| 2d         | 2 meter dewpoint temperature   | 1 : 13            | 0.1 %               | 0.992 |\n",
    "| 2t         | 2 meter temperature            | 1 : 13            | 0.01 %              | 0.996 |\n",
    "| 10u        | 10 metre U wind component      | 1 : 27            | 0.3 %               | 0.995 |\n",
    "| 10v        | 10 metre V wind component      | 1 : 27            | 0.2 %               | 0.996 |\n",
    "\n",
    "\n",
    "If you have a code snippet, use it to replace the code in the cell below:\n"
   ]
  },
  {
   "cell_type": "code",
   "metadata": {
    "ExecuteTime": {
     "end_time": "2024-07-17T09:38:06.958385Z",
     "start_time": "2024-07-17T09:38:06.953894Z"
    }
   },
   "source": [
    "category_name = 'Era5'\n",
    "short_name = '2d'\n",
    "start_date = datetime.strptime('1954-07-15T12:00', FORMAT)\n",
    "end_date = datetime.strptime('1954-07-20T12:00', FORMAT)"
   ],
   "outputs": [],
   "execution_count": 4
  },
  {
   "cell_type": "markdown",
   "metadata": {},
   "source": [
    "# Loading the stream\n",
    "\n",
    "With the DTEStreamer class we can easily access the data stream through the api and access individual data frames. \n",
    "At first, we create a DTEStreamer object with the parameters defined in the step above. The object initializes right away by calling the api to get meta information about the stream and the location of the stream. (You can take a look at the api yourself in the swagger [here](https://dev.destinestreamer.geoville.com/api/streaming/metadata)). The images() method opens the stream and creates a generator object which can be used in a for loop to load the individual time steps. Each frame is loaded individually for every step in the loop.\n",
    "Note that two variables in the for loop correspond to the time stamp and the actual data.\n",
    "\n",
    "Note that in this example, the data and time stamps are loaded into a list. A print statements keep us on track with the progress.\n",
    "\n",
    "Note: This example should be modified to your purpose especially if you plan to do a long time series analysis, as it will load all the data of the loop into memory.\n"
   ]
  },
  {
   "cell_type": "code",
   "metadata": {
    "ExecuteTime": {
     "end_time": "2024-07-17T09:38:08.032215Z",
     "start_time": "2024-07-17T09:38:06.960907Z"
    }
   },
   "source": [
    "streamer = DTEStreamer(category_name=category_name,\n",
    "                       short_name=short_name,\n",
    "                       start_date=start_date,\n",
    "                       end_date=end_date,\n",
    "                       token_loc=token_loc)\n",
    "\n",
    "time_series = list()\n",
    "time_stamps = list()\n",
    "\n",
    "for image, time_stamp in streamer.images():\n",
    "    if time_stamp.hour != 12:\n",
    "        continue\n",
    "        \n",
    "    time_stamps.append(time_stamp)\n",
    "    time_series.append(image)\n",
    "    print(time_stamp)"
   ],
   "outputs": [
    {
     "ename": "ConnectionError",
     "evalue": "Can't open stream: 403 Access denied",
     "output_type": "error",
     "traceback": [
      "\u001B[0;31m---------------------------------------------------------------------------\u001B[0m",
      "\u001B[0;31mConnectionError\u001B[0m                           Traceback (most recent call last)",
      "Cell \u001B[0;32mIn[5], line 10\u001B[0m\n\u001B[1;32m      7\u001B[0m time_series \u001B[38;5;241m=\u001B[39m \u001B[38;5;28mlist\u001B[39m()\n\u001B[1;32m      8\u001B[0m time_stamps \u001B[38;5;241m=\u001B[39m \u001B[38;5;28mlist\u001B[39m()\n\u001B[0;32m---> 10\u001B[0m \u001B[38;5;28;01mfor\u001B[39;00m image, time_stamp \u001B[38;5;129;01min\u001B[39;00m \u001B[43mstreamer\u001B[49m\u001B[38;5;241;43m.\u001B[39;49m\u001B[43mimages\u001B[49m\u001B[43m(\u001B[49m\u001B[43m)\u001B[49m:\n\u001B[1;32m     11\u001B[0m     \u001B[38;5;28;01mif\u001B[39;00m time_stamp\u001B[38;5;241m.\u001B[39mhour \u001B[38;5;241m!=\u001B[39m \u001B[38;5;241m12\u001B[39m:\n\u001B[1;32m     12\u001B[0m         \u001B[38;5;28;01mcontinue\u001B[39;00m\n",
      "File \u001B[0;32m~/Bitbucket/stream_select_dte/dtelib.py:178\u001B[0m, in \u001B[0;36mDTEStreamer.images\u001B[0;34m(self)\u001B[0m\n\u001B[1;32m    174\u001B[0m command\u001B[38;5;241m.\u001B[39minsert(\u001B[38;5;241m7\u001B[39m, \u001B[38;5;124m'\u001B[39m\u001B[38;5;124mgrayf32le\u001B[39m\u001B[38;5;124m'\u001B[39m)\n\u001B[1;32m    176\u001B[0m process \u001B[38;5;241m=\u001B[39m sp\u001B[38;5;241m.\u001B[39mPopen(command, stdout\u001B[38;5;241m=\u001B[39msp\u001B[38;5;241m.\u001B[39mPIPE, stderr\u001B[38;5;241m=\u001B[39msp\u001B[38;5;241m.\u001B[39mPIPE)\n\u001B[0;32m--> 178\u001B[0m \u001B[38;5;28;43mself\u001B[39;49m\u001B[38;5;241;43m.\u001B[39;49m\u001B[43m__check_stderr\u001B[49m\u001B[43m(\u001B[49m\u001B[43mprocess\u001B[49m\u001B[38;5;241;43m.\u001B[39;49m\u001B[43mstderr\u001B[49m\u001B[43m)\u001B[49m\n\u001B[1;32m    179\u001B[0m \u001B[38;5;28mself\u001B[39m\u001B[38;5;241m.\u001B[39mimage_gen \u001B[38;5;241m=\u001B[39m \u001B[38;5;28mself\u001B[39m\u001B[38;5;241m.\u001B[39m__load_images(process\u001B[38;5;241m.\u001B[39mstdout)\n\u001B[1;32m    181\u001B[0m \u001B[38;5;28;01mreturn\u001B[39;00m \u001B[38;5;28mself\u001B[39m\u001B[38;5;241m.\u001B[39mimage_gen\n",
      "File \u001B[0;32m~/Bitbucket/stream_select_dte/dtelib.py:153\u001B[0m, in \u001B[0;36mDTEStreamer.__check_stderr\u001B[0;34m(stderr_stream)\u001B[0m\n\u001B[1;32m    148\u001B[0m \u001B[38;5;66;03m# if err.find('200') == -1:\u001B[39;00m\n\u001B[1;32m    149\u001B[0m \u001B[38;5;66;03m#     raise ConnectionError(f\"Can't open stream: {err}\", err)\u001B[39;00m\n\u001B[1;32m    150\u001B[0m \u001B[38;5;66;03m# else:\u001B[39;00m\n\u001B[1;32m    151\u001B[0m \u001B[38;5;66;03m#     return\u001B[39;00m\n\u001B[1;32m    152\u001B[0m \u001B[38;5;28;01mif\u001B[39;00m err\u001B[38;5;241m.\u001B[39mfind(\u001B[38;5;124m'\u001B[39m\u001B[38;5;124m403\u001B[39m\u001B[38;5;124m'\u001B[39m) \u001B[38;5;241m!=\u001B[39m \u001B[38;5;241m-\u001B[39m\u001B[38;5;241m1\u001B[39m:\n\u001B[0;32m--> 153\u001B[0m     \u001B[38;5;28;01mraise\u001B[39;00m \u001B[38;5;167;01mConnectionError\u001B[39;00m(\u001B[38;5;124mf\u001B[39m\u001B[38;5;124m\"\u001B[39m\u001B[38;5;124mCan\u001B[39m\u001B[38;5;124m'\u001B[39m\u001B[38;5;124mt open stream: 403 Access denied\u001B[39m\u001B[38;5;124m\"\u001B[39m)\n\u001B[1;32m    154\u001B[0m \u001B[38;5;28;01melse\u001B[39;00m:\n\u001B[1;32m    155\u001B[0m     \u001B[38;5;28;01mreturn\u001B[39;00m\n",
      "\u001B[0;31mConnectionError\u001B[0m: Can't open stream: 403 Access denied"
     ]
    }
   ],
   "execution_count": 5
  },
  {
   "cell_type": "markdown",
   "metadata": {},
   "source": [
    "# Creating the xarray.DataArray\n",
    "\n",
    "With the time_series and time_stamps we can create a geo-referenced object. The method create_lon_lat_grid() creates longitudes and latitudes appropriate to our data. The DataArray is created with dimensions t, y and x and coordinates lat, lon and time using the time_series and time_stamps from the previous cell. We also set the name with streamer.name() and the unit of the data with streamer.unit(). To have the object geo-reference properly the transform is written and the CRS EPSG:4326 is applied."
   ]
  },
  {
   "cell_type": "code",
   "metadata": {
    "scrolled": true,
    "ExecuteTime": {
     "end_time": "2024-07-17T09:38:08.038084Z",
     "start_time": "2024-07-17T09:38:08.037360Z"
    }
   },
   "source": [
    "lon, lat = streamer.create_lon_lat_grid()\n",
    "\n",
    "da = xa.DataArray(time_series,\n",
    "                  dims=['t', 'y', 'x'],\n",
    "                  coords={\"lon\": ((\"y\", \"x\"), lon),\n",
    "                          \"lat\": ((\"y\", \"x\"), lat),\n",
    "                          'time': ('t', time_stamps)},\n",
    "                  name=streamer.name(),\n",
    "                  attrs=dict(units=streamer.unit())\n",
    "                  )\n",
    "\n",
    "da.rio.write_transform(transform=from_origin(0,-90,0.25,-0.25), inplace=True)\n",
    "\n",
    "# Apply the crs\n",
    "da.rio.write_crs(input_crs=CRS.from_string('EPSG:4326'), inplace=True)"
   ],
   "outputs": [],
   "execution_count": null
  },
  {
   "cell_type": "markdown",
   "metadata": {},
   "source": [
    "# Displaying the data\n",
    "\n",
    "With the isel() method we can select a particular image. "
   ]
  },
  {
   "cell_type": "code",
   "metadata": {},
   "source": [
    "da.isel(t=0).plot(x='lon', y='lat')"
   ],
   "outputs": [],
   "execution_count": null
  },
  {
   "cell_type": "markdown",
   "metadata": {},
   "source": [
    "# Subselecting regions\n",
    "\n",
    "With latitudes and longitudes it is also possible to sub-select AOIs, with the where() method."
   ]
  },
  {
   "metadata": {},
   "cell_type": "code",
   "source": [
    "italy = [\n",
    "    {\n",
    "        'type': 'Polygon',\n",
    "        'coordinates':     [[\n",
    "            [-0.23850189831415491, 29.958695145158657],\n",
    "            [26.009726989451195, 29.958695145158657],\n",
    "            [26.009726989451195, 53.06909307850006],\n",
    "            [-0.23850189831415491, 53.06909307850006],\n",
    "            [-0.23850189831415491, 29.958695145158657]\n",
    "        ]]\n",
    "    }\n",
    "]\n",
    "\n",
    "da.isel(t=3).rio.clip(geometries=italy, drop=True).plot(x='lon', y='lat')"
   ],
   "outputs": [],
   "execution_count": null
  },
  {
   "metadata": {},
   "cell_type": "code",
   "source": "",
   "outputs": [],
   "execution_count": null
  }
 ],
 "metadata": {
  "anaconda-cloud": {},
  "kernelspec": {
   "display_name": "Python 3 (ipykernel)",
   "language": "python",
   "name": "python3"
  },
  "language_info": {
   "codemirror_mode": {
    "name": "ipython",
    "version": 3
   },
   "file_extension": ".py",
   "mimetype": "text/x-python",
   "name": "python",
   "nbconvert_exporter": "python",
   "pygments_lexer": "ipython3",
   "version": "3.9.19"
  }
 },
 "nbformat": 4,
 "nbformat_minor": 4
}
