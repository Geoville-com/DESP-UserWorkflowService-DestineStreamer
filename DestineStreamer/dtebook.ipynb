{
 "cells": [
  {
   "cell_type": "markdown",
   "metadata": {},
   "source": [
    "## DestinE Data Streaming\n",
    "\n",
    "This service offers compressed climate and era5 data and makes it available via a high quality and memory efficient streaming solution. The [SSIM](https://en.wikipedia.org/wiki/Structural_similarity_index_measure) and the mean relative error serve as quality measures.\n",
    "\n",
    "<div style='white-space: nowrap', align='center'>\n",
    "\n",
    "<div style='display:inline-block', align='center'>Era5 2 meter dewpoint temperature (01-01-1940 09:00)<br>\n",
    "<img src=\"images/2t9_og_.jpeg\" width=\"450px\"><br><img src=\"images/2t9_cp_.jpeg\" width=\"450px\"><br>Mean SSIM: 0.996<br>Compression rate 1:13<br>Mean relative error 0.1 %</div>\n",
    "\n",
    "<div style='display:inline-block', align='center'>Era 5 10 metre U wind component (01-01-1940 09:00)<br>\n",
    "<img src=\"images/10u9_og_.jpeg\" width=\"450px\"><br><img src=\"images/10u9_cp_.jpeg\" width=\"450px\"><br>Mean SSIM: 0.995<br>Compression rate 1:27<br>Mean relative error 0.3 %</div>\n",
    "\n",
    "</div>\n"
   ]
  },
  {
   "cell_type": "markdown",
   "metadata": {},
   "source": [
    "## Authentification"
   ]
  },
  {
   "cell_type": "code",
   "metadata": {
    "ExecuteTime": {
     "end_time": "2024-07-22T20:21:52.245195Z",
     "start_time": "2024-07-22T20:21:48.783398Z"
    }
   },
   "source": [
    "%%capture cap\n",
    "%run ./auth.py"
   ],
   "outputs": [
    {
     "ename": "Exception",
     "evalue": "Invalid username or password.",
     "output_type": "error",
     "traceback": [
      "\u001B[0;31m---------------------------------------------------------------------------\u001B[0m",
      "\u001B[0;31mException\u001B[0m                                 Traceback (most recent call last)",
      "File \u001B[0;32m~/Bitbucket/stream_select_dte/auth.py:85\u001B[0m\n\u001B[1;32m     79\u001B[0m     error_message_element \u001B[38;5;241m=\u001B[39m tree\u001B[38;5;241m.\u001B[39mxpath(\u001B[38;5;124m'\u001B[39m\u001B[38;5;124m//span[@id=\u001B[39m\u001B[38;5;124m\"\u001B[39m\u001B[38;5;124minput-error\u001B[39m\u001B[38;5;124m\"\u001B[39m\u001B[38;5;124m]/text()\u001B[39m\u001B[38;5;124m'\u001B[39m)\n\u001B[1;32m     80\u001B[0m     error_message \u001B[38;5;241m=\u001B[39m (\n\u001B[1;32m     81\u001B[0m         error_message_element[\u001B[38;5;241m0\u001B[39m]\u001B[38;5;241m.\u001B[39mstrip()\n\u001B[1;32m     82\u001B[0m         \u001B[38;5;28;01mif\u001B[39;00m error_message_element\n\u001B[1;32m     83\u001B[0m         \u001B[38;5;28;01melse\u001B[39;00m \u001B[38;5;124m\"\u001B[39m\u001B[38;5;124mError message not found\u001B[39m\u001B[38;5;124m\"\u001B[39m\n\u001B[1;32m     84\u001B[0m     )\n\u001B[0;32m---> 85\u001B[0m     \u001B[38;5;28;01mraise\u001B[39;00m \u001B[38;5;167;01mException\u001B[39;00m(error_message)\n\u001B[1;32m     87\u001B[0m \u001B[38;5;28;01mif\u001B[39;00m login\u001B[38;5;241m.\u001B[39mstatus_code \u001B[38;5;241m!=\u001B[39m \u001B[38;5;241m302\u001B[39m:\n\u001B[1;32m     88\u001B[0m     \u001B[38;5;28;01mraise\u001B[39;00m \u001B[38;5;167;01mException\u001B[39;00m(\u001B[38;5;124m\"\u001B[39m\u001B[38;5;124mLogin failed\u001B[39m\u001B[38;5;124m\"\u001B[39m)\n",
      "\u001B[0;31mException\u001B[0m: Invalid username or password."
     ]
    }
   ],
   "execution_count": 9
  },
  {
   "cell_type": "code",
   "metadata": {
    "ExecuteTime": {
     "end_time": "2024-07-22T20:21:52.252653Z",
     "start_time": "2024-07-22T20:21:52.248928Z"
    }
   },
   "source": [
    "output_1 = cap.stdout.split('}\\n')\n",
    "token_loc = output_1[-1][0:-1]"
   ],
   "outputs": [],
   "execution_count": 10
  },
  {
   "cell_type": "markdown",
   "metadata": {},
   "source": [
    "# Imports and general definitions\n",
    "We start by importing necessary packages and definitions regarding the resolution and the endpoint to the streaming api.\n",
    "\n",
    "Note: The API token must be set here including the user group. This happens in **Authentification**."
   ]
  },
  {
   "cell_type": "code",
   "metadata": {
    "jukit_cell_id": "jJMMfb6qeT",
    "ExecuteTime": {
     "end_time": "2024-07-22T20:21:52.259148Z",
     "start_time": "2024-07-22T20:21:52.255631Z"
    }
   },
   "source": [
    "token_loc = '/home/andreas/.polytopeapirc'\n",
    "from dtelib import DTEStreamer, get_stream_overview\n",
    "from datetime import datetime\n",
    "import xarray as xa\n",
    "import rioxarray # noqa\n",
    "from pyproj import CRS\n",
    "from rasterio.transform import from_origin\n",
    "\n",
    "FORMAT = '%Y-%m-%dT%H:%M'"
   ],
   "outputs": [],
   "execution_count": 11
  },
  {
   "metadata": {},
   "cell_type": "markdown",
   "source": [
    "# Stream overview\n",
    "The code in the cell below calls the DTE API to receive an overview of all available streams."
   ]
  },
  {
   "metadata": {
    "ExecuteTime": {
     "end_time": "2024-07-22T20:21:53.178615Z",
     "start_time": "2024-07-22T20:21:52.264956Z"
    }
   },
   "cell_type": "code",
   "source": "get_stream_overview(token_loc)",
   "outputs": [
    {
     "data": {
      "text/plain": [
       "<IPython.core.display.HTML object>"
      ],
      "text/html": [
       "<h4>Category: era5</h4><table ><tr><td style=\"text-align:left;\"><b style=\"align:left\">short_name</b></td><td style=\"text-align:left;\"><b style=\"align:left\">title</b></td><td style=\"text-align:left;\"><b style=\"align:left\">period</b></td><td style=\"text-align:left;\"><b style=\"align:left\">compression rate</b></td><td style=\"text-align:left;\"><b style=\"align:left\">SSIM</b></td><td style=\"text-align:left;\"><b style=\"align:left\">mean relative error</b></td></tr><tr><td style=\"text-align:left;\">10u</td><td style=\"text-align:left;\">10 metre U wind component</td><td style=\"text-align:left;\">1940-01-01 00:00 - 2023-12-31 23:00</td><td style=\"text-align:left;\">1:27</td><td style=\"text-align:left;\">0.995</td><td style=\"text-align:left;\">0.3%</td></tr><tr><td style=\"text-align:left;\">10v</td><td style=\"text-align:left;\">10 metre V wind component</td><td style=\"text-align:left;\">1940-01-01 00:00 - 2023-12-31 23:00</td><td style=\"text-align:left;\">1:27</td><td style=\"text-align:left;\">0.996</td><td style=\"text-align:left;\">0.2%</td></tr><tr><td style=\"text-align:left;\">2d</td><td style=\"text-align:left;\">2 metre dewpoint temperature</td><td style=\"text-align:left;\">1940-01-01 00:00 - 2023-12-31 23:00</td><td style=\"text-align:left;\">1:13</td><td style=\"text-align:left;\">0.992</td><td style=\"text-align:left;\">0.1%</td></tr><tr><td style=\"text-align:left;\">2t</td><td style=\"text-align:left;\">2 metre temperature</td><td style=\"text-align:left;\">1940-01-01 00:00 - 2023-12-31 23:00</td><td style=\"text-align:left;\">1:13</td><td style=\"text-align:left;\">0.996</td><td style=\"text-align:left;\">0.01%</td></tr></table>"
      ]
     },
     "execution_count": 12,
     "metadata": {},
     "output_type": "execute_result"
    }
   ],
   "execution_count": 12
  },
  {
   "metadata": {},
   "cell_type": "markdown",
   "source": [
    "# Parameters for stream access\n",
    "\n",
    "Here the parameters are set to access the data from the service.\n",
    "\n",
    "*category_name*: a name for the category for the data </br>\n",
    "*short_name*: an abbreviated name for the data</br>\n",
    "*start_date*: the time and date to start the stream</br>\n",
    "*end_date*: the time and date to end the stream</br>\n",
    "</br>\n",
    "\n",
    "To select a stream, chose parameter values from the table above, or if you have a *code snippet*, use it to replace the code in the cell below:"
   ]
  },
  {
   "metadata": {
    "ExecuteTime": {
     "end_time": "2024-07-22T20:21:53.192909Z",
     "start_time": "2024-07-22T20:21:53.180033Z"
    }
   },
   "cell_type": "code",
   "source": [
    "category_name = 'Era5'\n",
    "short_name = '2t'\n",
    "start_date = datetime.strptime('1954-07-15T12:00', FORMAT)\n",
    "end_date = datetime.strptime('1954-07-20T12:00', FORMAT)"
   ],
   "outputs": [],
   "execution_count": 13
  },
  {
   "cell_type": "markdown",
   "metadata": {},
   "source": [
    "# Loading the stream\n",
    "\n",
    "With the DTEStreamer class we can easily access the data stream through the api and access individual data frames. \n",
    "At first, we create a DTEStreamer object with the parameters defined in the step above. The object initializes right away by calling the api to get meta information about the stream and the location of the stream. (You can take a look at the api yourself in the swagger [here](https://dev.destinestreamer.geoville.com/api/streaming/metadata)). The images() method opens the stream and creates a generator object which can be used in a for loop to load the individual time steps. Each frame is loaded individually for every step in the loop.\n",
    "Note that two variables in the for loop correspond to the time stamp and the actual data.\n",
    "\n",
    "Note that in this example, the data and time stamps are loaded into a list. A print statements keep us on track with the progress.\n",
    "\n",
    "Note: This example should be modified to your purpose especially if you plan to do a long time series analysis, as it will load all the data of the loop into memory.\n"
   ]
  },
  {
   "cell_type": "code",
   "metadata": {
    "ExecuteTime": {
     "end_time": "2024-07-22T20:21:53.353414Z",
     "start_time": "2024-07-22T20:21:53.197030Z"
    }
   },
   "source": [
    "streamer = DTEStreamer(category_name=category_name,\n",
    "                       short_name=short_name,\n",
    "                       start_date=start_date,\n",
    "                       end_date=end_date,\n",
    "                       token_loc=token_loc)\n",
    "\n",
    "time_series = list()\n",
    "time_stamps = list()\n",
    "\n",
    "for image, time_stamp in streamer.images():\n",
    "    if time_stamp.hour != 12:\n",
    "        continue\n",
    "        \n",
    "    time_stamps.append(time_stamp)\n",
    "    time_series.append(image)\n",
    "    print(time_stamp)"
   ],
   "outputs": [
    {
     "ename": "Exception",
     "evalue": "{'detail': 'Not Found'}",
     "output_type": "error",
     "traceback": [
      "\u001B[0;31m---------------------------------------------------------------------------\u001B[0m",
      "\u001B[0;31mException\u001B[0m                                 Traceback (most recent call last)",
      "Cell \u001B[0;32mIn[14], line 1\u001B[0m\n\u001B[0;32m----> 1\u001B[0m streamer \u001B[38;5;241m=\u001B[39m \u001B[43mDTEStreamer\u001B[49m\u001B[43m(\u001B[49m\u001B[43mcategory_name\u001B[49m\u001B[38;5;241;43m=\u001B[39;49m\u001B[43mcategory_name\u001B[49m\u001B[43m,\u001B[49m\n\u001B[1;32m      2\u001B[0m \u001B[43m                       \u001B[49m\u001B[43mshort_name\u001B[49m\u001B[38;5;241;43m=\u001B[39;49m\u001B[43mshort_name\u001B[49m\u001B[43m,\u001B[49m\n\u001B[1;32m      3\u001B[0m \u001B[43m                       \u001B[49m\u001B[43mstart_date\u001B[49m\u001B[38;5;241;43m=\u001B[39;49m\u001B[43mstart_date\u001B[49m\u001B[43m,\u001B[49m\n\u001B[1;32m      4\u001B[0m \u001B[43m                       \u001B[49m\u001B[43mend_date\u001B[49m\u001B[38;5;241;43m=\u001B[39;49m\u001B[43mend_date\u001B[49m\u001B[43m,\u001B[49m\n\u001B[1;32m      5\u001B[0m \u001B[43m                       \u001B[49m\u001B[43mtoken_loc\u001B[49m\u001B[38;5;241;43m=\u001B[39;49m\u001B[43mtoken_loc\u001B[49m\u001B[43m)\u001B[49m\n\u001B[1;32m      7\u001B[0m time_series \u001B[38;5;241m=\u001B[39m \u001B[38;5;28mlist\u001B[39m()\n\u001B[1;32m      8\u001B[0m time_stamps \u001B[38;5;241m=\u001B[39m \u001B[38;5;28mlist\u001B[39m()\n",
      "File \u001B[0;32m~/Bitbucket/stream_select_dte/dtelib.py:73\u001B[0m, in \u001B[0;36mDTEStreamer.__init__\u001B[0;34m(self, category_name, short_name, start_date, end_date, token_loc)\u001B[0m\n\u001B[1;32m     69\u001B[0m \u001B[38;5;28mself\u001B[39m\u001B[38;5;241m.\u001B[39mstart_frame: \u001B[38;5;28mint\u001B[39m \u001B[38;5;241m=\u001B[39m \u001B[38;5;241m-\u001B[39m\u001B[38;5;241m1\u001B[39m\n\u001B[1;32m     71\u001B[0m \u001B[38;5;28mself\u001B[39m\u001B[38;5;241m.\u001B[39mtoken \u001B[38;5;241m=\u001B[39m BearerAuth\u001B[38;5;241m.\u001B[39mextract_token(token_loc)\n\u001B[0;32m---> 73\u001B[0m \u001B[38;5;28;43mself\u001B[39;49m\u001B[38;5;241;43m.\u001B[39;49m\u001B[43m__get_stream_and_metadata\u001B[49m\u001B[43m(\u001B[49m\u001B[43m)\u001B[49m\n",
      "File \u001B[0;32m~/Bitbucket/stream_select_dte/dtelib.py:98\u001B[0m, in \u001B[0;36mDTEStreamer.__get_stream_and_metadata\u001B[0;34m(self)\u001B[0m\n\u001B[1;32m     95\u001B[0m content \u001B[38;5;241m=\u001B[39m json\u001B[38;5;241m.\u001B[39mloads(response\u001B[38;5;241m.\u001B[39mcontent)\n\u001B[1;32m     97\u001B[0m \u001B[38;5;28;01mif\u001B[39;00m response\u001B[38;5;241m.\u001B[39mstatus_code \u001B[38;5;241m!=\u001B[39m \u001B[38;5;241m200\u001B[39m:\n\u001B[0;32m---> 98\u001B[0m     \u001B[38;5;28;01mraise\u001B[39;00m \u001B[38;5;167;01mException\u001B[39;00m(content)\n\u001B[1;32m    100\u001B[0m \u001B[38;5;66;03m# saving the uri of the stream according to the selected resolution.\u001B[39;00m\n\u001B[1;32m    101\u001B[0m \u001B[38;5;28mself\u001B[39m\u001B[38;5;241m.\u001B[39mstream_metadata \u001B[38;5;241m=\u001B[39m \\\n\u001B[1;32m    102\u001B[0m     {key: value \u001B[38;5;28;01mfor\u001B[39;00m key, value \u001B[38;5;129;01min\u001B[39;00m content\u001B[38;5;241m.\u001B[39mitems() \u001B[38;5;28;01mif\u001B[39;00m key \u001B[38;5;241m!=\u001B[39m \u001B[38;5;124m'\u001B[39m\u001B[38;5;124mimages\u001B[39m\u001B[38;5;124m'\u001B[39m}\n",
      "\u001B[0;31mException\u001B[0m: {'detail': 'Not Found'}"
     ]
    }
   ],
   "execution_count": 14
  },
  {
   "cell_type": "markdown",
   "metadata": {},
   "source": [
    "# Creating the xarray.DataArray\n",
    "\n",
    "With the time_series and time_stamps we can create a geo-referenced object. The method create_lon_lat_grid() creates longitudes and latitudes appropriate to our data. The DataArray is created with dimensions t, y and x and coordinates lat, lon and time using the time_series and time_stamps from the previous cell. We also set the name with streamer.name() and the unit of the data with streamer.unit(). To have the object geo-reference properly the transform is written and the CRS EPSG:4326 is applied."
   ]
  },
  {
   "cell_type": "code",
   "metadata": {
    "scrolled": true,
    "ExecuteTime": {
     "end_time": "2024-07-22T20:21:53.355489Z",
     "start_time": "2024-07-22T20:21:53.355108Z"
    }
   },
   "source": [
    "lon, lat = streamer.create_lon_lat_grid()\n",
    "\n",
    "da = xa.DataArray(time_series,\n",
    "                  dims=['t', 'y', 'x'],\n",
    "                  coords={\"lon\": ((\"y\", \"x\"), lon),\n",
    "                          \"lat\": ((\"y\", \"x\"), lat),\n",
    "                          'time': ('t', time_stamps)},\n",
    "                  name=streamer.name(),\n",
    "                  attrs=dict(units=streamer.unit())\n",
    "                  )\n",
    "\n",
    "da.rio.write_transform(transform=from_origin(0,-90,0.25,-0.25), inplace=True)\n",
    "\n",
    "# Apply the crs\n",
    "da.rio.write_crs(input_crs=CRS.from_string('EPSG:4326'), inplace=True)"
   ],
   "outputs": [],
   "execution_count": null
  },
  {
   "cell_type": "markdown",
   "metadata": {},
   "source": [
    "# Displaying the data\n",
    "\n",
    "With the isel() method we can select a particular image. "
   ]
  },
  {
   "cell_type": "code",
   "metadata": {},
   "source": [
    "da.isel(t=0).plot(x='lon', y='lat')"
   ],
   "outputs": [],
   "execution_count": null
  },
  {
   "cell_type": "markdown",
   "metadata": {},
   "source": [
    "# Subselecting regions\n",
    "\n",
    "With latitudes and longitudes it is also possible to sub-select AOIs, with the where() method."
   ]
  },
  {
   "cell_type": "code",
   "metadata": {},
   "source": [
    "italy = [\n",
    "    {\n",
    "        'type': 'Polygon',\n",
    "        'coordinates':     [[\n",
    "            [-0.23850189831415491, 29.958695145158657],\n",
    "            [26.009726989451195, 29.958695145158657],\n",
    "            [26.009726989451195, 53.06909307850006],\n",
    "            [-0.23850189831415491, 53.06909307850006],\n",
    "            [-0.23850189831415491, 29.958695145158657]\n",
    "        ]]\n",
    "    }\n",
    "]\n",
    "\n",
    "da.isel(t=3).rio.clip(geometries=italy, drop=True).plot(x='lon', y='lat')"
   ],
   "outputs": [],
   "execution_count": null
  }
 ],
 "metadata": {
  "anaconda-cloud": {},
  "kernelspec": {
   "display_name": "Python 3 (ipykernel)",
   "language": "python",
   "name": "python3"
  },
  "language_info": {
   "codemirror_mode": {
    "name": "ipython",
    "version": 3
   },
   "file_extension": ".py",
   "mimetype": "text/x-python",
   "name": "python",
   "nbconvert_exporter": "python",
   "pygments_lexer": "ipython3",
   "version": "3.9.19"
  }
 },
 "nbformat": 4,
 "nbformat_minor": 4
}
