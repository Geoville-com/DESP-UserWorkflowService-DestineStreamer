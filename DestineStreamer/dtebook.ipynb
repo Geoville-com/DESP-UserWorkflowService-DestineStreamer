{
 "cells": [
  {
   "cell_type": "markdown",
   "metadata": {},
   "source": [
    "## DestinE Data Streaming\n",
    "\n",
    "This service offers compressed climate and era5 data and makes it available via a high quality and memory efficient streaming solution. The [SSIM](https://en.wikipedia.org/wiki/Structural_similarity_index_measure) and the mean relative error serve as quality measures.\n",
    "\n",
    "<div style='white-space: nowrap', align='center'>\n",
    "\n",
    "<div style='display:inline-block', align='center'>Era5 2 meter dewpoint temperature (01-01-1940 09:00)<br>\n",
    "<img src=\"images/2t9_og_.jpeg\" width=\"450px\"><br><img src=\"images/2t9_cp_.jpeg\" width=\"450px\"><br>Mean SSIM: 0.996<br>Compression rate 1:13<br>Mean relative error 0.1 %</div>\n",
    "\n",
    "<div style='display:inline-block', align='center'>Era 5 10 metre U wind component (01-01-1940 09:00)<br>\n",
    "<img src=\"images/10u9_og_.jpeg\" width=\"450px\"><br><img src=\"images/10u9_cp_.jpeg\" width=\"450px\"><br>Mean SSIM: 0.995<br>Compression rate 1:27<br>Mean relative error 0.3 %</div>\n",
    "\n",
    "</div>\n"
   ]
  },
  {
   "cell_type": "markdown",
   "metadata": {},
   "source": [
    "## Authentification"
   ]
  },
  {
   "cell_type": "code",
   "execution_count": 6,
   "metadata": {
    "ExecuteTime": {
     "end_time": "2024-07-31T11:30:46.446452Z",
     "start_time": "2024-07-31T11:30:46.395357Z"
    }
   },
   "outputs": [
    {
     "ename": "ModuleNotFoundError",
     "evalue": "No module named 'pydantic._internal'",
     "output_type": "error",
     "traceback": [
      "\u001B[1;31m---------------------------------------------------------------------------\u001B[0m",
      "\u001B[1;31mModuleNotFoundError\u001B[0m                       Traceback (most recent call last)",
      "File \u001B[1;32m~\\IdeaProjects\\stream_select_dte\\auth.py:12\u001B[0m\n\u001B[0;32m     10\u001B[0m \u001B[38;5;28;01mfrom\u001B[39;00m \u001B[38;5;21;01murllib\u001B[39;00m\u001B[38;5;21;01m.\u001B[39;00m\u001B[38;5;21;01mparse\u001B[39;00m \u001B[38;5;28;01mimport\u001B[39;00m parse_qs\n\u001B[0;32m     11\u001B[0m \u001B[38;5;28;01mimport\u001B[39;00m \u001B[38;5;21;01mjwt\u001B[39;00m\n\u001B[1;32m---> 12\u001B[0m \u001B[38;5;28;01mfrom\u001B[39;00m \u001B[38;5;21;01mpydantic_settings\u001B[39;00m \u001B[38;5;28;01mimport\u001B[39;00m BaseSettings, SettingsConfigDict\n\u001B[0;32m     13\u001B[0m \u001B[38;5;28;01mimport\u001B[39;00m \u001B[38;5;21;01mgetpass\u001B[39;00m\n\u001B[0;32m     15\u001B[0m CURRENT_DIR \u001B[38;5;241m=\u001B[39m os\u001B[38;5;241m.\u001B[39mpath\u001B[38;5;241m.\u001B[39mdirname(os\u001B[38;5;241m.\u001B[39mpath\u001B[38;5;241m.\u001B[39mrealpath(\u001B[38;5;18m__file__\u001B[39m))\n",
      "File \u001B[1;32m~\\AppData\\Local\\Programs\\Python\\Python312\\Lib\\site-packages\\pydantic_settings\\__init__.py:1\u001B[0m\n\u001B[1;32m----> 1\u001B[0m \u001B[38;5;28;01mfrom\u001B[39;00m \u001B[38;5;21;01m.\u001B[39;00m\u001B[38;5;21;01mmain\u001B[39;00m \u001B[38;5;28;01mimport\u001B[39;00m BaseSettings, SettingsConfigDict\n\u001B[0;32m      2\u001B[0m \u001B[38;5;28;01mfrom\u001B[39;00m \u001B[38;5;21;01m.\u001B[39;00m\u001B[38;5;21;01msources\u001B[39;00m \u001B[38;5;28;01mimport\u001B[39;00m (\n\u001B[0;32m      3\u001B[0m     CliPositionalArg,\n\u001B[0;32m      4\u001B[0m     CliSettingsSource,\n\u001B[1;32m   (...)\u001B[0m\n\u001B[0;32m     14\u001B[0m     YamlConfigSettingsSource,\n\u001B[0;32m     15\u001B[0m )\n\u001B[0;32m     16\u001B[0m \u001B[38;5;28;01mfrom\u001B[39;00m \u001B[38;5;21;01m.\u001B[39;00m\u001B[38;5;21;01mversion\u001B[39;00m \u001B[38;5;28;01mimport\u001B[39;00m VERSION\n",
      "File \u001B[1;32m~\\AppData\\Local\\Programs\\Python\\Python312\\Lib\\site-packages\\pydantic_settings\\main.py:7\u001B[0m\n\u001B[0;32m      4\u001B[0m \u001B[38;5;28;01mfrom\u001B[39;00m \u001B[38;5;21;01mtyping\u001B[39;00m \u001B[38;5;28;01mimport\u001B[39;00m Any, ClassVar\n\u001B[0;32m      6\u001B[0m \u001B[38;5;28;01mfrom\u001B[39;00m \u001B[38;5;21;01mpydantic\u001B[39;00m \u001B[38;5;28;01mimport\u001B[39;00m ConfigDict\n\u001B[1;32m----> 7\u001B[0m \u001B[38;5;28;01mfrom\u001B[39;00m \u001B[38;5;21;01mpydantic\u001B[39;00m\u001B[38;5;21;01m.\u001B[39;00m\u001B[38;5;21;01m_internal\u001B[39;00m\u001B[38;5;21;01m.\u001B[39;00m\u001B[38;5;21;01m_config\u001B[39;00m \u001B[38;5;28;01mimport\u001B[39;00m config_keys\n\u001B[0;32m      8\u001B[0m \u001B[38;5;28;01mfrom\u001B[39;00m \u001B[38;5;21;01mpydantic\u001B[39;00m\u001B[38;5;21;01m.\u001B[39;00m\u001B[38;5;21;01m_internal\u001B[39;00m\u001B[38;5;21;01m.\u001B[39;00m\u001B[38;5;21;01m_utils\u001B[39;00m \u001B[38;5;28;01mimport\u001B[39;00m deep_update\n\u001B[0;32m      9\u001B[0m \u001B[38;5;28;01mfrom\u001B[39;00m \u001B[38;5;21;01mpydantic\u001B[39;00m\u001B[38;5;21;01m.\u001B[39;00m\u001B[38;5;21;01mmain\u001B[39;00m \u001B[38;5;28;01mimport\u001B[39;00m BaseModel\n",
      "\u001B[1;31mModuleNotFoundError\u001B[0m: No module named 'pydantic._internal'"
     ]
    }
   ],
   "source": [
    "%%capture cap\n",
    "%run ./auth.py"
   ]
  },
  {
   "cell_type": "code",
   "execution_count": 3,
   "metadata": {
    "ExecuteTime": {
     "end_time": "2024-07-25T08:17:26.835264Z",
     "start_time": "2024-07-25T08:17:26.829693Z"
    }
   },
   "outputs": [
    {
     "name": "stdout",
     "output_type": "stream",
     "text": [
      "eyJhbGciOiJSUzI1NiIsInR5cCIgOiAiSldUIiwia2lkIiA6ICJ6Z2VPSi1PVkIxRXdkNk01blNEamZ0Vzd1WGpKa3hxMTdkV2FQbzd6NDIwIn0.eyJleHAiOjE3MjE4OTU3NDIsImlhdCI6MTcyMTg5NTQ0MiwiYXV0aF90aW1lIjoxNzIxODk1NDQyLCJqdGkiOiIwNzlkMzVkMC1lZTNhLTQ5MmItOWMzNi00ODZjZWU3NTk0MjIiLCJpc3MiOiJodHRwczovL2F1dGguZGVzdGluZS5ldS9yZWFsbXMvZGVzcCIsInN1YiI6ImI5OGVjZTgwLTJjODktNGYwMi1hZTQ0LThjNTc2NWIyY2Y1MSIsInR5cCI6IkJlYXJlciIsImF6cCI6InN0cmVhbWluZy1mZSIsInNlc3Npb25fc3RhdGUiOiJlZGI3YTAwMC1iNDMwLTRjYjAtOTQ5MS0yYzA3ZTVlZjc1NTUiLCJyZWFsbV9hY2Nlc3MiOnsicm9sZXMiOlsiRFBBRF9EaXJlY3RfQWNjZXNzIl19LCJzY29wZSI6Im9wZW5pZCIsInNpZCI6ImVkYjdhMDAwLWI0MzAtNGNiMC05NDkxLTJjMDdlNWVmNzU1NSIsInByZWZlcnJlZF91c2VybmFtZSI6ImRlc3RpbmVzdHJlYW1lciIsImFjY2Vzc19ncm91cCI6WyJEUEFEX0RpcmVjdF9BY2Nlc3MiXX0.CjGrH1aDLwyEf4czVlPcXFgVgIZNRGBXoZYWcpLuWmDiYoE5UZjYLf6HeM3miPE5qv7RTfRCNyX46M9yVt72jQsA_y2FA93mDnQxp9v_1sUzOHnxtaNGPlLuHlRsxHe64WVuQLWaZM_ECK6TchenQgEbTpwDX6UkQJrR4uGIWgu7y_9SLjmaDyciqI31J4avsMBTn196-4PxkFsHDcO8_5gsD6nGI8qVePf7pJsMwcQrClNVpLsaSjGiTk9d6vMxeyGzxLHU9ktraqVHXPM7O0ZHUeBuRiZXvu_tQoYUtPvvLi_aGvsbkvPBNA-Uetk3g1HUi3VNXR4eGgs-qbXrQg\n"
     ]
    }
   ],
   "source": [
    "output_1 = cap.stdout.split('}\\n')\n",
    "token = output_1[-1][0:-1]\n",
    "print(token)"
   ]
  },
  {
   "cell_type": "markdown",
   "metadata": {},
   "source": [
    "# Imports and general definitions\n",
    "We start by importing necessary packages and definitions regarding the resolution and the endpoint to the streaming api.\n",
    "\n",
    "Note: The API token must be set here including the user group. This happens in **Authentification**."
   ]
  },
  {
   "cell_type": "code",
   "execution_count": null,
   "metadata": {
    "jukit_cell_id": "jJMMfb6qeT"
   },
   "outputs": [],
   "source": [
    "from dtelib import DTEStreamer, get_stream_overview\n",
    "from datetime import datetime\n",
    "import xarray as xa\n",
    "import rioxarray # noqa\n",
    "from pyproj import CRS\n",
    "from rasterio.transform import from_origin\n",
    "\n",
    "FORMAT = '%Y-%m-%dT%H:%M'"
   ]
  },
  {
   "cell_type": "markdown",
   "metadata": {},
   "source": [
    "# Stream overview\n",
    "The code in the cell below calls the DTE API to receive an overview of all available streams."
   ]
  },
  {
   "cell_type": "code",
   "execution_count": null,
   "metadata": {},
   "outputs": [],
   "source": [
    "get_stream_overview(token)"
   ]
  },
  {
   "cell_type": "markdown",
   "metadata": {},
   "source": [
    "# Parameters for stream access\n",
    "\n",
    "Here the parameters are set to access the data from the service.\n",
    "\n",
    "*category_name*: a name for the category for the data </br>\n",
    "*short_name*: an abbreviated name for the data</br>\n",
    "*start_date*: the time and date to start the stream</br>\n",
    "*end_date*: the time and date to end the stream</br>\n",
    "</br>\n",
    "\n",
    "To select a stream, chose parameter values from the table above, or if you have a *code snippet*, use it to replace the code in the cell below:"
   ]
  },
  {
   "cell_type": "code",
   "execution_count": null,
   "metadata": {},
   "outputs": [],
   "source": [
    "category_name = 'Era5'\n",
    "short_name = '2t'\n",
    "start_date = datetime.strptime('1954-07-15T12:00', FORMAT)\n",
    "end_date = datetime.strptime('1954-07-20T12:00', FORMAT)"
   ]
  },
  {
   "cell_type": "markdown",
   "metadata": {},
   "source": [
    "# Loading the stream\n",
    "\n",
    "With the DTEStreamer class we can easily access the data stream through the api and access individual data frames. \n",
    "At first, we create a DTEStreamer object with the parameters defined in the step above. The object initializes right away by calling the api to get meta information about the stream and the location of the stream. (You can take a look at the api yourself in the swagger [here](https://dev.destinestreamer.geoville.com/api/streaming/metadata)). The images() method opens the stream and creates a generator object which can be used in a for loop to load the individual time steps. Each frame is loaded individually for every step in the loop.\n",
    "Note that two variables in the for loop correspond to the time stamp and the actual data.\n",
    "\n",
    "Note that in this example, the data and time stamps are loaded into a list. A print statements keep us on track with the progress.\n",
    "\n",
    "Note: This example should be modified to your purpose especially if you plan to do a long time series analysis, as it will load all the data of the loop into memory.\n"
   ]
  },
  {
   "cell_type": "code",
   "execution_count": 1,
   "metadata": {
    "ExecuteTime": {
     "end_time": "2024-07-31T11:29:50.738472Z",
     "start_time": "2024-07-31T11:29:50.537812Z"
    }
   },
   "outputs": [
    {
     "ename": "NameError",
     "evalue": "name 'DTEStreamer' is not defined",
     "output_type": "error",
     "traceback": [
      "\u001B[1;31m---------------------------------------------------------------------------\u001B[0m",
      "\u001B[1;31mNameError\u001B[0m                                 Traceback (most recent call last)",
      "Cell \u001B[1;32mIn[1], line 1\u001B[0m\n\u001B[1;32m----> 1\u001B[0m streamer \u001B[38;5;241m=\u001B[39m \u001B[43mDTEStreamer\u001B[49m(category_name\u001B[38;5;241m=\u001B[39mcategory_name,\n\u001B[0;32m      2\u001B[0m                        short_name\u001B[38;5;241m=\u001B[39mshort_name,\n\u001B[0;32m      3\u001B[0m                        start_date\u001B[38;5;241m=\u001B[39mstart_date,\n\u001B[0;32m      4\u001B[0m                        end_date\u001B[38;5;241m=\u001B[39mend_date,\n\u001B[0;32m      5\u001B[0m                        token\u001B[38;5;241m=\u001B[39mtoken)\n\u001B[0;32m      7\u001B[0m time_series \u001B[38;5;241m=\u001B[39m \u001B[38;5;28mlist\u001B[39m()\n\u001B[0;32m      8\u001B[0m time_stamps \u001B[38;5;241m=\u001B[39m \u001B[38;5;28mlist\u001B[39m()\n",
      "\u001B[1;31mNameError\u001B[0m: name 'DTEStreamer' is not defined"
     ]
    }
   ],
   "source": [
    "streamer = DTEStreamer(category_name=category_name,\n",
    "                       short_name=short_name,\n",
    "                       start_date=start_date,\n",
    "                       end_date=end_date,\n",
    "                       token=token)\n",
    "\n",
    "time_series = list()\n",
    "time_stamps = list()\n",
    "\n",
    "for image, time_stamp in streamer.images():\n",
    "    if time_stamp.hour != 12:\n",
    "        continue\n",
    "        \n",
    "    time_stamps.append(time_stamp)\n",
    "    time_series.append(image)\n",
    "    print(time_stamp)"
   ]
  },
  {
   "cell_type": "markdown",
   "metadata": {},
   "source": [
    "# Creating the xarray.DataArray\n",
    "\n",
    "With the time_series and time_stamps we can create a geo-referenced object. The method create_lon_lat_grid() creates longitudes and latitudes appropriate to our data. The DataArray is created with dimensions t, y and x and coordinates lat, lon and time using the time_series and time_stamps from the previous cell. We also set the name with streamer.name() and the unit of the data with streamer.unit(). To have the object geo-reference properly the transform is written and the CRS EPSG:4326 is applied."
   ]
  },
  {
   "cell_type": "code",
   "execution_count": null,
   "metadata": {
    "scrolled": true
   },
   "outputs": [],
   "source": [
    "lon, lat = streamer.create_lon_lat_grid()\n",
    "\n",
    "da = xa.DataArray(time_series,\n",
    "                  dims=['t', 'y', 'x'],\n",
    "                  coords={\"lon\": ((\"y\", \"x\"), lon),\n",
    "                          \"lat\": ((\"y\", \"x\"), lat),\n",
    "                          'time': ('t', time_stamps)},\n",
    "                  name=streamer.name(),\n",
    "                  attrs=dict(units=streamer.unit())\n",
    "                  )\n",
    "\n",
    "da.rio.write_transform(transform=from_origin(0,-90,0.25,-0.25), inplace=True)\n",
    "\n",
    "# Apply the crs\n",
    "da.rio.write_crs(input_crs=CRS.from_string('EPSG:4326'), inplace=True)"
   ]
  },
  {
   "cell_type": "markdown",
   "metadata": {},
   "source": [
    "# Displaying the data\n",
    "\n",
    "With the isel() method we can select a particular image. "
   ]
  },
  {
   "cell_type": "code",
   "execution_count": null,
   "metadata": {},
   "outputs": [],
   "source": [
    "da.isel(t=0).plot(x='lon', y='lat')"
   ]
  },
  {
   "cell_type": "markdown",
   "metadata": {},
   "source": [
    "# Subselecting regions\n",
    "\n",
    "With latitudes and longitudes it is also possible to sub-select AOIs, with the where() method."
   ]
  },
  {
   "cell_type": "code",
   "execution_count": null,
   "metadata": {},
   "outputs": [],
   "source": [
    "italy = [\n",
    "    {\n",
    "        'type': 'Polygon',\n",
    "        'coordinates':     [[\n",
    "            [-0.23850189831415491, 29.958695145158657],\n",
    "            [26.009726989451195, 29.958695145158657],\n",
    "            [26.009726989451195, 53.06909307850006],\n",
    "            [-0.23850189831415491, 53.06909307850006],\n",
    "            [-0.23850189831415491, 29.958695145158657]\n",
    "        ]]\n",
    "    }\n",
    "]\n",
    "\n",
    "da.isel(t=3).rio.clip(geometries=italy, drop=True).plot(x='lon', y='lat')"
   ]
  }
 ],
 "metadata": {
  "anaconda-cloud": {},
  "kernelspec": {
   "display_name": "Python 3 (ipykernel)",
   "language": "python",
   "name": "python3"
  },
  "language_info": {
   "codemirror_mode": {
    "name": "ipython",
    "version": 3
   },
   "file_extension": ".py",
   "mimetype": "text/x-python",
   "name": "python",
   "nbconvert_exporter": "python",
   "pygments_lexer": "ipython3",
   "version": "3.12.3"
  }
 },
 "nbformat": 4,
 "nbformat_minor": 4
}
